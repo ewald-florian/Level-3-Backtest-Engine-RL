{
 "cells": [
  {
   "cell_type": "code",
   "execution_count": null,
   "id": "ebbb7a6f",
   "metadata": {},
   "outputs": [],
   "source": [
    "import numpy as np\n",
    "import pandas as pd\n",
    "import json\n",
    "import time\n",
    "import cProfile\n",
    "import os\n",
    "import copy\n",
    "from deepdiff import DeepDiff\n",
    "from timeit import default_timer as timer\n",
    "import matplotlib.pyplot as plt"
   ]
  },
  {
   "cell_type": "code",
   "execution_count": 2,
   "id": "0a9d74ae",
   "metadata": {},
   "outputs": [
    {
     "ename": "ModuleNotFoundError",
     "evalue": "No module named 'environment.parser_new'",
     "output_type": "error",
     "traceback": [
      "\u001B[0;31m---------------------------------------------------------------------------\u001B[0m",
      "\u001B[0;31mModuleNotFoundError\u001B[0m                       Traceback (most recent call last)",
      "\u001B[0;32m/var/folders/01/m_5nvn8562j72ty3_7sm3hd40000gn/T/ipykernel_19052/3558737953.py\u001B[0m in \u001B[0;36m<module>\u001B[0;34m\u001B[0m\n\u001B[1;32m      1\u001B[0m \u001B[0;32mfrom\u001B[0m \u001B[0mmarket\u001B[0m\u001B[0;34m.\u001B[0m\u001B[0mmarket_state_v1\u001B[0m \u001B[0;32mimport\u001B[0m \u001B[0mMarketStateAttribute\u001B[0m\u001B[0;34m\u001B[0m\u001B[0;34m\u001B[0m\u001B[0m\n\u001B[1;32m      2\u001B[0m \u001B[0;31m# import Parser\u001B[0m\u001B[0;34m\u001B[0m\u001B[0;34m\u001B[0m\u001B[0m\n\u001B[0;32m----> 3\u001B[0;31m \u001B[0;32mfrom\u001B[0m \u001B[0menvironment\u001B[0m\u001B[0;34m.\u001B[0m\u001B[0mparser_new\u001B[0m \u001B[0;32mimport\u001B[0m \u001B[0mSnapshotParser\u001B[0m\u001B[0;34m,\u001B[0m \u001B[0mMessagePacketParser\u001B[0m\u001B[0;34m\u001B[0m\u001B[0;34m\u001B[0m\u001B[0m\n\u001B[0m\u001B[1;32m      4\u001B[0m \u001B[0;34m\u001B[0m\u001B[0m\n",
      "\u001B[0;31mModuleNotFoundError\u001B[0m: No module named 'environment.parser_new'"
     ]
    }
   ],
   "source": [
    "from market.market_state_v1 import MarketStateAttribute\n",
    "# import Parser\n",
    "from environment.parser_new import SnapshotParser, MessagePacketParser"
   ]
  },
  {
   "cell_type": "code",
   "execution_count": 3,
   "id": "5ebf5fe8",
   "metadata": {},
   "outputs": [],
   "source": [
    "path = \"/Users/florianewald/PycharmProjects/Level3-Data-Analysis/sample_msg_data/\""
   ]
  },
  {
   "cell_type": "code",
   "execution_count": 4,
   "id": "9d4e4d35",
   "metadata": {},
   "outputs": [],
   "source": [
    "# TODO: test market state with more data!"
   ]
  },
  {
   "cell_type": "code",
   "execution_count": 5,
   "id": "6f7aed5e",
   "metadata": {},
   "outputs": [],
   "source": [
    "file = \"DE0005190003.XETR_20220202T080014_20220202T120000\"\n",
    "#file = \"DE0005190003.XETR_20220201T080007_20220201T120000\""
   ]
  },
  {
   "cell_type": "code",
   "execution_count": 6,
   "id": "a74aaa32",
   "metadata": {},
   "outputs": [],
   "source": [
    "def load_data(path):\n",
    "    start = timer()\n",
    "    # load snapshot start\n",
    "    file = open(f\"{path}/snapshot_start.json\")\n",
    "    snapshot_start = json.load(file)\n",
    "    \n",
    "    # load snapshot end\n",
    "    file = open(f\"{path}/snapshot_end.json\")\n",
    "    snapshot_end = json.load(file)\n",
    "\n",
    "    # load message list\n",
    "    file = open(f\"{path}/message_list.json\")\n",
    "    message_list = json.load(file)\n",
    "    end = timer()\n",
    "    print('loading time: ', round(end-start, 2), 'seconds')\n",
    "    return snapshot_start, snapshot_end, message_list"
   ]
  },
  {
   "cell_type": "code",
   "execution_count": 7,
   "id": "3a1718bc",
   "metadata": {},
   "outputs": [
    {
     "ename": "NameError",
     "evalue": "name 'timer' is not defined",
     "output_type": "error",
     "traceback": [
      "\u001B[0;31m---------------------------------------------------------------------------\u001B[0m",
      "\u001B[0;31mNameError\u001B[0m                                 Traceback (most recent call last)",
      "\u001B[0;32m/var/folders/01/m_5nvn8562j72ty3_7sm3hd40000gn/T/ipykernel_19052/2391275193.py\u001B[0m in \u001B[0;36m<module>\u001B[0;34m\u001B[0m\n\u001B[0;32m----> 1\u001B[0;31m \u001B[0msnapshot_start\u001B[0m\u001B[0;34m,\u001B[0m \u001B[0msnapshot_end\u001B[0m\u001B[0;34m,\u001B[0m \u001B[0mmessage_list\u001B[0m \u001B[0;34m=\u001B[0m \u001B[0mload_data\u001B[0m\u001B[0;34m(\u001B[0m\u001B[0mpath\u001B[0m\u001B[0;34m=\u001B[0m\u001B[0mpath\u001B[0m\u001B[0;34m+\u001B[0m\u001B[0mfile\u001B[0m\u001B[0;34m)\u001B[0m\u001B[0;34m\u001B[0m\u001B[0;34m\u001B[0m\u001B[0m\n\u001B[0m\u001B[1;32m      2\u001B[0m \u001B[0mmessage_list\u001B[0m \u001B[0;34m=\u001B[0m \u001B[0mmessage_list\u001B[0m\u001B[0;34m[\u001B[0m\u001B[0;36m1\u001B[0m\u001B[0;34m:\u001B[0m\u001B[0;34m]\u001B[0m\u001B[0;34m\u001B[0m\u001B[0;34m\u001B[0m\u001B[0m\n\u001B[1;32m      3\u001B[0m \u001B[0msnapshot_start\u001B[0m \u001B[0;34m=\u001B[0m \u001B[0msnapshot_start\u001B[0m\u001B[0;34m[\u001B[0m\u001B[0;36m0\u001B[0m\u001B[0;34m]\u001B[0m\u001B[0;34m\u001B[0m\u001B[0;34m\u001B[0m\u001B[0m\n\u001B[1;32m      4\u001B[0m \u001B[0;34m\u001B[0m\u001B[0m\n",
      "\u001B[0;32m/var/folders/01/m_5nvn8562j72ty3_7sm3hd40000gn/T/ipykernel_19052/3166908063.py\u001B[0m in \u001B[0;36mload_data\u001B[0;34m(path)\u001B[0m\n\u001B[1;32m      1\u001B[0m \u001B[0;32mdef\u001B[0m \u001B[0mload_data\u001B[0m\u001B[0;34m(\u001B[0m\u001B[0mpath\u001B[0m\u001B[0;34m)\u001B[0m\u001B[0;34m:\u001B[0m\u001B[0;34m\u001B[0m\u001B[0;34m\u001B[0m\u001B[0m\n\u001B[0;32m----> 2\u001B[0;31m     \u001B[0mstart\u001B[0m \u001B[0;34m=\u001B[0m \u001B[0mtimer\u001B[0m\u001B[0;34m(\u001B[0m\u001B[0;34m)\u001B[0m\u001B[0;34m\u001B[0m\u001B[0;34m\u001B[0m\u001B[0m\n\u001B[0m\u001B[1;32m      3\u001B[0m     \u001B[0;31m# load snapshot start\u001B[0m\u001B[0;34m\u001B[0m\u001B[0;34m\u001B[0m\u001B[0m\n\u001B[1;32m      4\u001B[0m     \u001B[0mfile\u001B[0m \u001B[0;34m=\u001B[0m \u001B[0mopen\u001B[0m\u001B[0;34m(\u001B[0m\u001B[0;34mf\"{path}/snapshot_start.json\"\u001B[0m\u001B[0;34m)\u001B[0m\u001B[0;34m\u001B[0m\u001B[0;34m\u001B[0m\u001B[0m\n\u001B[1;32m      5\u001B[0m     \u001B[0msnapshot_start\u001B[0m \u001B[0;34m=\u001B[0m \u001B[0mjson\u001B[0m\u001B[0;34m.\u001B[0m\u001B[0mload\u001B[0m\u001B[0;34m(\u001B[0m\u001B[0mfile\u001B[0m\u001B[0;34m)\u001B[0m\u001B[0;34m\u001B[0m\u001B[0;34m\u001B[0m\u001B[0m\n",
      "\u001B[0;31mNameError\u001B[0m: name 'timer' is not defined"
     ]
    }
   ],
   "source": [
    "snapshot_start, snapshot_end, message_list = load_data(path=path+file)\n",
    "message_list = message_list[1:]\n",
    "snapshot_start = snapshot_start[0]"
   ]
  },
  {
   "cell_type": "code",
   "execution_count": 8,
   "id": "23a62d62",
   "metadata": {},
   "outputs": [],
   "source": [
    "market_state = MarketStateAttribute(market_id=\"0\", l3_levels=7, l2_levels=8, report_state_timestamps=True)"
   ]
  },
  {
   "cell_type": "code",
   "execution_count": 9,
   "id": "6892453f",
   "metadata": {},
   "outputs": [
    {
     "name": "stdout",
     "output_type": "stream",
     "text": [
      "(INFO) State Build from Snapshot: Start Timestamp: 2022-02-02 08:00:11.923329580\n"
     ]
    }
   ],
   "source": [
    "market_state.instance.initialize_state(snapshot_start)"
   ]
  },
  {
   "cell_type": "code",
   "execution_count": 10,
   "id": "1972a3d3",
   "metadata": {},
   "outputs": [
    {
     "name": "stdout",
     "output_type": "stream",
     "text": [
      "Flawed Message: \n",
      "{'MessageHeader': {'BodyLen': 80, 'TemplateID': 13202, 'MsgSeqNum': 106970}, 'SecurityID': '2504900', 'AggressorTime': None, 'RequestTime': None, 'ExecID': '1643791765054516679', 'LastQty': '150000', 'AggressorSide': 2, 'TradeCondition': None, 'LastPx': '9400000000', 'RestingHiddenQty': '0', 'RestingCxlQty': '0'}\n",
      "None\n"
     ]
    }
   ],
   "source": [
    "for idx, message_packet in enumerate(message_list):\n",
    "    market_state.update_with_exchange_message(message_packet)"
   ]
  },
  {
   "cell_type": "markdown",
   "id": "14973ae1",
   "metadata": {},
   "source": [
    "### Validate Internal State with Snapshot End"
   ]
  },
  {
   "cell_type": "markdown",
   "id": "f19f5e13",
   "metadata": {},
   "source": [
    " -> if the final internal state is equal to the final snapshot, the reconstruction of the order book\n",
    " from the message stream was successful"
   ]
  },
  {
   "cell_type": "code",
   "execution_count": 11,
   "id": "65b79f2c",
   "metadata": {},
   "outputs": [
    {
     "data": {
      "text/plain": [
       "True"
      ]
     },
     "execution_count": 11,
     "metadata": {},
     "output_type": "execute_result"
    }
   ],
   "source": [
    "# parse snapshot end\n",
    "market_state.validate_state(snapshot_end)"
   ]
  },
  {
   "cell_type": "markdown",
   "id": "55ca0a2d",
   "metadata": {},
   "source": [
    "### Further Analysis"
   ]
  },
  {
   "cell_type": "code",
   "execution_count": 184,
   "id": "927d76ef",
   "metadata": {},
   "outputs": [],
   "source": [
    "agent_message_list = [{'template_id': 99999, 'side': 1, 'price': 9411000000, 'quantity': 2220000, 'timestamp': 1643716931606681391}, \n",
    "                      {'template_id': 99999, 'side': 1, 'price': 9413000000, 'quantity': 1110000, 'timestamp': 1643716931606681391}, \n",
    "                      {'template_id': 99999, 'side': 2, 'price': 9436000000, 'quantity': 3330000, 'timestamp': 1643716931606681391}, \n",
    "                      {'template_id': 99999, 'side': 2, 'price': 9438000000, 'quantity': 8880000, 'timestamp': 1643716931606681391}, \n",
    "                      {'template_id': 66666, 'side': 2, 'price': 9428000000, 'timestamp': 1643716931606681391}]"
   ]
  },
  {
   "cell_type": "code",
   "execution_count": 185,
   "id": "ae8ce9f8",
   "metadata": {},
   "outputs": [],
   "source": [
    "buy_prices = []\n",
    "sell_prices = []\n",
    "for message in agent_message_list:\n",
    "    # filter for order submissions (exclude cancellations):\n",
    "    if message['template_id'] == 99999:\n",
    "        if message['side'] == 1:\n",
    "            buy_prices.append(message['price'])\n",
    "        if message['side'] == 2:\n",
    "            sell_prices.append(message['price'])\n",
    "\n",
    "max_buy_order_price = max(buy_prices)\n",
    "min_buy_order_price = min(buy_prices)\n",
    "max_sell_order_price = max(sell_prices)\n",
    "min_sell_order_price = min(sell_prices)"
   ]
  },
  {
   "cell_type": "code",
   "execution_count": 186,
   "id": "84092ae0",
   "metadata": {},
   "outputs": [
    {
     "name": "stdout",
     "output_type": "stream",
     "text": [
      "max_buy_order_price 9413000000\n",
      "min_buy_order_price 9411000000\n",
      "max_sell_order_price 9438000000\n",
      "min_sell_order_price 9436000000\n"
     ]
    }
   ],
   "source": [
    "print('max_buy_order_price',max_buy_order_price)\n",
    "print('min_buy_order_price', min_buy_order_price)\n",
    "print('max_sell_order_price', max_sell_order_price)\n",
    "print('min_sell_order_price', min_sell_order_price)"
   ]
  },
  {
   "cell_type": "code",
   "execution_count": 187,
   "id": "2e280bfa",
   "metadata": {},
   "outputs": [
    {
     "data": {
      "text/plain": [
       "[9411000000, 9413000000]"
      ]
     },
     "execution_count": 187,
     "metadata": {},
     "output_type": "execute_result"
    }
   ],
   "source": [
    "buy_prices"
   ]
  },
  {
   "cell_type": "code",
   "execution_count": 188,
   "id": "1352d57e",
   "metadata": {},
   "outputs": [
    {
     "data": {
      "text/plain": [
       "[9436000000, 9438000000]"
      ]
     },
     "execution_count": 188,
     "metadata": {},
     "output_type": "execute_result"
    }
   ],
   "source": [
    "sell_prices"
   ]
  },
  {
   "cell_type": "code",
   "execution_count": 189,
   "id": "847ab769",
   "metadata": {},
   "outputs": [],
   "source": [
    "# Simulation State Dimension:\n",
    "\n",
    "# For Agent Buy Order:\n",
    "# - Ask-State: ask_level =< min_buy_order_price (no matching possible if ask > bid)\n",
    "# - Bid-State: bid-level => max_buy_order_price (lob buy orders with same or higher bid limit could have higher priority)\n",
    "\n",
    "# For Agent Sell Order:\n",
    "# Bid-State: bid-level => min_sell_order_price (no matching if bid < ask)\n",
    "# Ask-Side: ask-level =< max_sell_order_price (lob sell orders with same or lower ask limit could have higher priority)\n",
    "\n",
    "# Hence:\n",
    "\n",
    "# Ask Thresh: ask_level =< min_buy_order_price AND ask-level =< max_sell_order_price (SMALLER CONDITION)\n",
    "\n",
    "# Bid Thresh: bid-level => max_buy_order_price AND bid-level => min_sell_order_price (LARGER CONDITION)\n",
    "\n",
    "# simulation_state dimension:\n",
    "# - all bid-levels => bid_threshold\n",
    "# - all ask-levels =< ask_threshold"
   ]
  },
  {
   "cell_type": "code",
   "execution_count": 190,
   "id": "3598de9d",
   "metadata": {},
   "outputs": [],
   "source": [
    "#TODO: MAX OR MIN???\n",
    "ask_threshold = max(min_buy_order_price, max_sell_order_price)\n",
    "bid_threshold = min(max_buy_order_price, min_sell_order_price)"
   ]
  },
  {
   "cell_type": "code",
   "execution_count": 191,
   "id": "65f37a2e",
   "metadata": {},
   "outputs": [
    {
     "name": "stdout",
     "output_type": "stream",
     "text": [
      "ask_threshold 9438000000\n",
      "bid_threshold 9413000000\n"
     ]
    }
   ],
   "source": [
    "print('ask_threshold', ask_threshold)\n",
    "print('bid_threshold', bid_threshold)"
   ]
  },
  {
   "cell_type": "code",
   "execution_count": 192,
   "id": "3edf1cdb",
   "metadata": {},
   "outputs": [],
   "source": [
    "_state = copy.deepcopy(market_state._state)"
   ]
  },
  {
   "cell_type": "code",
   "execution_count": 193,
   "id": "83b069ed",
   "metadata": {},
   "outputs": [
    {
     "data": {
      "text/plain": [
       "[9413000000,\n",
       " 9414000000,\n",
       " 9415000000,\n",
       " 9416000000,\n",
       " 9417000000,\n",
       " 9418000000,\n",
       " 9419000000,\n",
       " 9420000000,\n",
       " 9421000000,\n",
       " 9422000000,\n",
       " 9423000000,\n",
       " 9424000000,\n",
       " 9425000000,\n",
       " 9426000000,\n",
       " 9427000000,\n",
       " 9428000000,\n",
       " 9429000000,\n",
       " 9431000000,\n",
       " 9430000000,\n",
       " 9432000000]"
      ]
     },
     "execution_count": 193,
     "metadata": {},
     "output_type": "execute_result"
    }
   ],
   "source": [
    "# Bid-side-keys\n",
    "bid_keys = list(_state[1].keys())\n",
    "bid_keys_relevant = list(i for i in bid_keys if i >= bid_threshold)\n",
    "bid_keys_relevant"
   ]
  },
  {
   "cell_type": "code",
   "execution_count": 194,
   "id": "2809f4f0",
   "metadata": {},
   "outputs": [
    {
     "data": {
      "text/plain": [
       "[9438000000, 9437000000, 9436000000, 9435000000, 9434000000]"
      ]
     },
     "execution_count": 194,
     "metadata": {},
     "output_type": "execute_result"
    }
   ],
   "source": [
    "# Bid-side-keys\n",
    "ask_keys = list(_state[2].keys())\n",
    "ask_keys_relevant = list(i for i in ask_keys if i <= ask_threshold)\n",
    "ask_keys_relevant"
   ]
  },
  {
   "cell_type": "code",
   "execution_count": 195,
   "id": "31cd3581",
   "metadata": {},
   "outputs": [],
   "source": [
    "simulation_state = {}\n",
    "bid_side_dict = {}\n",
    "ask_side_dict = {}\n",
    "\n",
    "# store relevant bid levels to bid_side_dict\n",
    "for key in bid_keys_relevant:\n",
    "    if key in _state[1]:\n",
    "        bid_side_dict[key] = _state[1][key]\n",
    "        \n",
    "# store relevant ask levels to ask_side_dict\n",
    "for key in ask_keys_relevant:\n",
    "    if key in _state[2]:\n",
    "        ask_side_dict[key] = _state[2][key]\n",
    "\n",
    "# store relevant levels to simulation_state\n",
    "simulation_state[1] = bid_side_dict\n",
    "simulation_state[2] = ask_side_dict"
   ]
  },
  {
   "cell_type": "code",
   "execution_count": 196,
   "id": "f1c44fc2",
   "metadata": {},
   "outputs": [
    {
     "name": "stdout",
     "output_type": "stream",
     "text": [
      "20\n",
      "20\n"
     ]
    }
   ],
   "source": [
    "print(len(bid_keys_relevant))\n",
    "print(len(simulation_state[1]))"
   ]
  },
  {
   "cell_type": "code",
   "execution_count": 197,
   "id": "236881e5",
   "metadata": {},
   "outputs": [
    {
     "data": {
      "text/plain": [
       "dict_keys([9413000000, 9414000000, 9415000000, 9416000000, 9417000000, 9418000000, 9419000000, 9420000000, 9421000000, 9422000000, 9423000000, 9424000000, 9425000000, 9426000000, 9427000000, 9428000000, 9429000000, 9431000000, 9430000000, 9432000000])"
      ]
     },
     "execution_count": 197,
     "metadata": {},
     "output_type": "execute_result"
    }
   ],
   "source": [
    "simulation_state[1].keys()"
   ]
  },
  {
   "cell_type": "code",
   "execution_count": 198,
   "id": "404068ad",
   "metadata": {},
   "outputs": [
    {
     "data": {
      "text/plain": [
       "dict_keys([9438000000, 9437000000, 9436000000, 9435000000, 9434000000])"
      ]
     },
     "execution_count": 198,
     "metadata": {},
     "output_type": "execute_result"
    }
   ],
   "source": [
    "simulation_state[2].keys()"
   ]
  },
  {
   "cell_type": "markdown",
   "id": "f11dcffc",
   "metadata": {},
   "source": [
    "#### Append Agent messages to simulation state"
   ]
  },
  {
   "cell_type": "code",
   "execution_count": 199,
   "id": "83fc5434",
   "metadata": {},
   "outputs": [
    {
     "name": "stdout",
     "output_type": "stream",
     "text": [
      "{'template_id': 99999, 'side': 1, 'price': 9411000000, 'quantity': 2220000, 'timestamp': 1643716931606681391}\n",
      "{'template_id': 99999, 'side': 1, 'price': 9413000000, 'quantity': 1110000, 'timestamp': 1643716931606681391}\n",
      "{'template_id': 99999, 'side': 2, 'price': 9436000000, 'quantity': 3330000, 'timestamp': 1643716931606681391}\n",
      "{'template_id': 99999, 'side': 2, 'price': 9438000000, 'quantity': 8880000, 'timestamp': 1643716931606681391}\n",
      "{'template_id': 66666, 'side': 2, 'price': 9428000000, 'timestamp': 1643716931606681391}\n"
     ]
    }
   ],
   "source": [
    "# add agent messages to simulation_state:\n",
    "for message in agent_message_list:\n",
    "    print(message)\n",
    "    if message['template_id'] == 99999:\n",
    "        # buy-order\n",
    "        if message['side'] == 1:\n",
    "            price = message['price']\n",
    "            # add message if price level exists\n",
    "            if price in simulation_state[1]:\n",
    "                simulation_state[1][price].append(message)\n",
    "            # create new price level for message\n",
    "            else:\n",
    "                simulation_state[1][price] = [message]\n",
    "        # sell-order\n",
    "        if message['side'] == 2:\n",
    "            price = message['price']\n",
    "            if price in simulation_state[2]:\n",
    "                simulation_state[2][price].append(message)\n",
    "            else:\n",
    "                simulation_state[2][price] = [message]"
   ]
  },
  {
   "cell_type": "code",
   "execution_count": null,
   "id": "3cf40370",
   "metadata": {},
   "outputs": [],
   "source": []
  },
  {
   "cell_type": "code",
   "execution_count": 200,
   "id": "abd3ba61",
   "metadata": {},
   "outputs": [
    {
     "data": {
      "text/plain": [
       "[9411000000,\n",
       " 9413000000,\n",
       " 9414000000,\n",
       " 9415000000,\n",
       " 9416000000,\n",
       " 9417000000,\n",
       " 9418000000,\n",
       " 9419000000,\n",
       " 9420000000,\n",
       " 9421000000,\n",
       " 9422000000,\n",
       " 9423000000,\n",
       " 9424000000,\n",
       " 9425000000,\n",
       " 9426000000,\n",
       " 9427000000,\n",
       " 9428000000,\n",
       " 9429000000,\n",
       " 9430000000,\n",
       " 9431000000,\n",
       " 9432000000]"
      ]
     },
     "execution_count": 200,
     "metadata": {},
     "output_type": "execute_result"
    }
   ],
   "source": [
    "# Bid\n",
    "sorted(list(simulation_state[1].keys()))"
   ]
  },
  {
   "cell_type": "code",
   "execution_count": 201,
   "id": "ac8fae31",
   "metadata": {},
   "outputs": [
    {
     "data": {
      "text/plain": [
       "[9438000000, 9437000000, 9436000000, 9435000000, 9434000000]"
      ]
     },
     "execution_count": 201,
     "metadata": {},
     "output_type": "execute_result"
    }
   ],
   "source": [
    "# ask\n",
    "list(simulation_state[2].keys())"
   ]
  },
  {
   "cell_type": "code",
   "execution_count": 202,
   "id": "89c37560",
   "metadata": {},
   "outputs": [
    {
     "data": {
      "text/plain": [
       "{0: 1643803200024859829, 1: {9432000000: 2450000}, 2: {9434000000: 1860000}}"
      ]
     },
     "execution_count": 202,
     "metadata": {},
     "output_type": "execute_result"
    }
   ],
   "source": [
    "market_state.state_l1"
   ]
  },
  {
   "cell_type": "code",
   "execution_count": 204,
   "id": "dd2fbcdd",
   "metadata": {},
   "outputs": [
    {
     "data": {
      "text/plain": [
       "{'template_id': 99999,\n",
       " 'side': 1,\n",
       " 'price': 9411000000,\n",
       " 'quantity': 2220000,\n",
       " 'timestamp': 1643716931606681391}"
      ]
     },
     "execution_count": 204,
     "metadata": {},
     "output_type": "execute_result"
    }
   ],
   "source": [
    "agent_message_list[0]"
   ]
  },
  {
   "cell_type": "code",
   "execution_count": 209,
   "id": "436b6d51",
   "metadata": {},
   "outputs": [
    {
     "name": "stdout",
     "output_type": "stream",
     "text": [
      "true\n"
     ]
    }
   ],
   "source": [
    "a = 1\n",
    "b = 2\n",
    "\n",
    "if a == 1 and b == 2:\n",
    "    print('true')"
   ]
  },
  {
   "cell_type": "code",
   "execution_count": 211,
   "id": "b262edfb",
   "metadata": {},
   "outputs": [
    {
     "data": {
      "text/plain": [
       "{9432000000: 2450000}"
      ]
     },
     "execution_count": 211,
     "metadata": {},
     "output_type": "execute_result"
    }
   ],
   "source": [
    "market_state.state_l1[1]"
   ]
  },
  {
   "cell_type": "code",
   "execution_count": 212,
   "id": "f7c5aa39",
   "metadata": {},
   "outputs": [
    {
     "name": "stdout",
     "output_type": "stream",
     "text": [
      "gut\n"
     ]
    }
   ],
   "source": [
    "if market_state.state_l1[1]:\n",
    "    print('gut')"
   ]
  },
  {
   "cell_type": "code",
   "execution_count": 215,
   "id": "3c3d572a",
   "metadata": {},
   "outputs": [],
   "source": [
    "test = {0: 1643803200024859829, 1: {2}, 2: {9434000000: 1860000}}"
   ]
  },
  {
   "cell_type": "code",
   "execution_count": 216,
   "id": "b6ae269f",
   "metadata": {},
   "outputs": [
    {
     "name": "stdout",
     "output_type": "stream",
     "text": [
      "gut\n"
     ]
    }
   ],
   "source": [
    "if test[1]:\n",
    "    print('gut')"
   ]
  },
  {
   "cell_type": "markdown",
   "id": "20d239e1",
   "metadata": {},
   "source": [
    "#### use trade-list to update agent_message_list"
   ]
  },
  {
   "cell_type": "code",
   "execution_count": null,
   "id": "74cd4869",
   "metadata": {},
   "outputs": [],
   "source": [
    "#0) Problem: my executed orders could be either aggressors or liquidity providers... the trade_list only\n",
    "# contains agressors so far...\n",
    "\n",
    "\n",
    "# 1) Identify Order\n",
    "# 2) determine if fully or partially executed\n",
    "# 3) if fully executed, change order template_id to 11111\n",
    "# 4) If partially executed...? i have to change quantity, cannot just change template_id..."
   ]
  },
  {
   "cell_type": "code",
   "execution_count": 217,
   "id": "9b3204d3",
   "metadata": {},
   "outputs": [],
   "source": [
    "trade_list = [{'aggressor_side': 1, 'price': 9418000000, 'timestamp': 1643716931606681391, 'quantity': 250000}]"
   ]
  },
  {
   "cell_type": "code",
   "execution_count": 218,
   "id": "d234e0d5",
   "metadata": {},
   "outputs": [
    {
     "data": {
      "text/plain": [
       "[{'template_id': 99999,\n",
       "  'side': 1,\n",
       "  'price': 9411000000,\n",
       "  'quantity': 2220000,\n",
       "  'timestamp': 1643716931606681391},\n",
       " {'template_id': 99999,\n",
       "  'side': 1,\n",
       "  'price': 9413000000,\n",
       "  'quantity': 1110000,\n",
       "  'timestamp': 1643716931606681391},\n",
       " {'template_id': 99999,\n",
       "  'side': 2,\n",
       "  'price': 9436000000,\n",
       "  'quantity': 3330000,\n",
       "  'timestamp': 1643716931606681391},\n",
       " {'template_id': 99999,\n",
       "  'side': 2,\n",
       "  'price': 9438000000,\n",
       "  'quantity': 8880000,\n",
       "  'timestamp': 1643716931606681391},\n",
       " {'template_id': 66666,\n",
       "  'side': 2,\n",
       "  'price': 9428000000,\n",
       "  'timestamp': 1643716931606681391}]"
      ]
     },
     "execution_count": 218,
     "metadata": {},
     "output_type": "execute_result"
    }
   ],
   "source": [
    "agent_message_list"
   ]
  },
  {
   "cell_type": "markdown",
   "id": "74c19d30",
   "metadata": {},
   "source": [
    "### Einfacher: Kompett neue Matching Logik"
   ]
  },
  {
   "cell_type": "code",
   "execution_count": 249,
   "id": "9cac252b",
   "metadata": {},
   "outputs": [],
   "source": [
    "state_to_match = copy.deepcopy(market_state._state)"
   ]
  },
  {
   "cell_type": "code",
   "execution_count": 256,
   "id": "e98eac7d",
   "metadata": {},
   "outputs": [],
   "source": [
    "# insert executable order for testing\n",
    "state_to_match[1][9463000000] = [{'template_id': 13100,\n",
    "    'msg_seq_num': 330218,\n",
    "    'side': 1,\n",
    "    'price': 9463000000,\n",
    "    'quantity': 888888,\n",
    "    'timestamp': 1643800110844504171,\n",
    "    'time-in': 1643800110844495601}]"
   ]
  },
  {
   "cell_type": "code",
   "execution_count": 227,
   "id": "dfb84618",
   "metadata": {},
   "outputs": [
    {
     "data": {
      "text/plain": [
       "[{'template_id': 13100,\n",
       "  'msg_seq_num': 330218,\n",
       "  'side': 1,\n",
       "  'price': 9463000000,\n",
       "  'quantity': 888888,\n",
       "  'timestamp': 1643800110844504171,\n",
       "  'time-in': 1643800110844495601}]"
      ]
     },
     "execution_count": 227,
     "metadata": {},
     "output_type": "execute_result"
    }
   ],
   "source": [
    "state_to_match[1][9463000000]"
   ]
  },
  {
   "cell_type": "code",
   "execution_count": 242,
   "id": "454db35e",
   "metadata": {},
   "outputs": [],
   "source": [
    "# TODO: determine the right execution price!\n",
    "# Es sollte immer der Preis sein der länger im Buch steht (siehe EFN1)"
   ]
  },
  {
   "cell_type": "code",
   "execution_count": 244,
   "id": "289778c1",
   "metadata": {},
   "outputs": [
    {
     "name": "stdout",
     "output_type": "stream",
     "text": [
      "9463000000 9434000000\n",
      "9463000000 9434000000\n",
      "9463000000 9434000000\n",
      "9432000000 9434000000\n"
     ]
    }
   ],
   "source": [
    "\n",
    "trade_list = []\n",
    "\n",
    "while True:\n",
    "    max_buy = max(state_to_match[1].keys())  # best bid\n",
    "    min_sell = min(state_to_match[2].keys())  # best ask\n",
    "    print(max_buy, min_sell)\n",
    "    \n",
    "    # check if execution is possible\n",
    "    if not max_buy >= min_sell:\n",
    "        break\n",
    "        \n",
    "    # if empty, remove the current best price_level and continue with the loop\n",
    "    if not (price_level := state_to_match[1][max_buy]): # :=  allows variable assignment inside expression\n",
    "        del state_to_match[1][max_buy];\n",
    "        continue\n",
    "        \n",
    "    if not (price_level := state_to_match[2][min_sell]):\n",
    "        del state_to_match[2][min_sell];\n",
    "        continue\n",
    "    \n",
    "    # TODO: Orders müssen erst nach time priority sortiert werden! (zumindest in simulation)\n",
    "    \n",
    "    # in the following, match these two particular orders\n",
    "    # sort by priority time and select first order (lowest priority time, necessary for simulation!)\n",
    "    order_buy = sorted(state_to_match[1][max_buy], key=lambda d: d['timestamp'])[0]\n",
    "    order_sell = sorted(state_to_match[2][min_sell], key=lambda d: d['timestamp'])[0]\n",
    "    \n",
    "    \n",
    "    # assign roles for these two particular orders\n",
    "    order_aggressor, order_standing = sorted([order_buy, order_sell],\n",
    "                                             key=lambda x: x[\"timestamp\"], reverse=True)\n",
    "    \n",
    "    # check quantity delta\n",
    "    delta = order_buy[\"quantity\"] - order_sell[\"quantity\"]\n",
    "    \n",
    "    # (buy - sell) < 0: buy executed at min_sell, sell reduced to delta\n",
    "    \n",
    "    ###### DELTA < 0 ---> price = order_sell (?) ######\n",
    "    \n",
    "    # Error Szenario:\n",
    "    #\n",
    "    # - Limit Buy Order sits in the book (order_standing); quantity = 50\n",
    "    # - Limit Sell Order arrives (aggressor); quantity = 100\n",
    "    # => Price = Highest Bid Limit\n",
    "    #\n",
    "    # delta = -50\n",
    "    # => Used Execution Price = Sell Order Limit\n",
    "    #\n",
    "    # Problem: Highest Bid Limit could be smaller than Sell Order Limit\n",
    "    \n",
    "    if delta < 0:\n",
    "        # remove qt from partially executed sell order\n",
    "        order_sell[\"quantity\"] -= order_buy[\"quantity\"]\n",
    "        # store to trade-list\n",
    "        trade_list.append({\"aggressor_side\": order_aggressor[\"side\"],\n",
    "                           \"price\": order_sell[\"price\"],  # min_sell\n",
    "                           \"timestamp\": order_aggressor[\"timestamp\"],\n",
    "                           \"quantity\": order_buy[\"quantity\"],\n",
    "                           })\n",
    "        \n",
    "        # remove the fully executed buy order from state\n",
    "        state_to_match[1][max_buy].remove(order_buy)\n",
    "    \n",
    "    # (buy - sell) > 0: sell executed at max_buy, buy reduced to delta\n",
    "    \n",
    "    ###### DELTA > 0 ---> price = order_buy (?) ######\n",
    "    \n",
    "    elif delta > 0:\n",
    "        # remove qt from partially executed buy order\n",
    "        order_buy[\"quantity\"] -= order_sell[\"quantity\"]\n",
    "        # store to trade-list\n",
    "        trade_list.append({\"aggressor_side\": order_aggressor[\"side\"],\n",
    "                           \"price\": order_buy[\"price\"],  # max_buy\n",
    "                           \"timestamp\": order_aggressor[\"timestamp\"],\n",
    "                           \"quantity\": order_sell[\"quantity\"],\n",
    "                           })\n",
    "        # remove executed sell order from state\n",
    "        state_to_match[2][min_sell].remove(order_sell)\n",
    "        \n",
    "    # (buy - sell) > 0: sell executed at max_buy, buy reduced to delta\n",
    "    \n",
    "    ###### DELTA = 0 ---> price = order_standing (!) ######\n",
    "    \n",
    "    else:\n",
    "        trade_list.append({\"aggressor_side\": order_aggressor[\"side\"],\n",
    "                           \"price\": order_standing[\"price\"],\n",
    "                           \"timestamp\": order_aggressor[\"timestamp\"],\n",
    "                           \"quantity\": order_buy[\"quantity\"],  # = order_sell[\"quantity\"]\n",
    "                           })\n",
    "        \n",
    "        # remove both fully executed orders from state\n",
    "        state_to_match[1][max_buy].remove(order_buy)\n",
    "        state_to_match[2][min_sell].remove(order_sell)\n",
    "    \n",
    "    #self._update_internal_timestamp()\n",
    "    \n",
    "    #return trade_list\n",
    "        \n",
    "        \n",
    "    "
   ]
  },
  {
   "cell_type": "code",
   "execution_count": null,
   "id": "ae613fee",
   "metadata": {},
   "outputs": [],
   "source": [
    "# Matching Logic:\n",
    "\n",
    "# 2 Scenarios:\n",
    "# -----------\n",
    "\n",
    "# 1) \n",
    "# - Limit Buy Order sits in the book (order_standing)\n",
    "# - Limit Sell Order arrives (aggressor)\n",
    "# => Price = Highest Bid Limit (i.e. limit of buy order standing)\n",
    "\n",
    "# 2)\n",
    "# - Limit Sell Order sits in the book (order_standing)\n",
    "# - Limit Buy Order arrives (aggressor)\n",
    "# => Price = Lowest Ask Limit (i.e. limit of sell order standing)\n",
    "#\n",
    "# Igore Edge Cases (only market orders in the book etc.)\n",
    "#\n",
    "# ==> The price of the order standing can always be used as Execution Price!\n",
    "\n",
    "\n"
   ]
  },
  {
   "cell_type": "code",
   "execution_count": 254,
   "id": "3ec75d5b",
   "metadata": {},
   "outputs": [
    {
     "name": "stdout",
     "output_type": "stream",
     "text": [
      "max_buy:  9463000000 min_sell:  9434000000\n",
      "order_standing {'template_id': 13100, 'msg_seq_num': 330218, 'side': 1, 'price': 9463000000, 'quantity': 888888, 'timestamp': 1643800110844504171, 'time-in': 1643800110844495601}\n",
      "order_aggressor {'template_id': 13100, 'msg_seq_num': 395931, 'side': 2, 'price': 9434000000, 'quantity': 241112, 'timestamp': 1643803200016020618, 'time-in': 1643803200016011415}\n",
      "[{'aggressor_side': 2, 'price': 9463000000, 'timestamp': 1643803200016020618, 'quantity': 241112}]\n",
      "max_buy:  9463000000 min_sell:  9434000000\n",
      "order_standing {'template_id': 13100, 'msg_seq_num': 330218, 'side': 1, 'price': 9463000000, 'quantity': 647776, 'timestamp': 1643800110844504171, 'time-in': 1643800110844495601}\n",
      "order_aggressor {'template_id': 13100, 'msg_seq_num': 395932, 'side': 2, 'price': 9434000000, 'quantity': 730000, 'timestamp': 1643803200016027679, 'time-in': 1643803200016011639}\n",
      "[{'aggressor_side': 2, 'price': 9463000000, 'timestamp': 1643803200016020618, 'quantity': 241112}, {'aggressor_side': 2, 'price': 9463000000, 'timestamp': 1643803200016027679, 'quantity': 647776}]\n",
      "max_buy:  9463000000 min_sell:  9434000000\n",
      "max_buy:  9432000000 min_sell:  9434000000\n"
     ]
    }
   ],
   "source": [
    "# -- V2 (08/Sept/2022)\n",
    "trade_list = []\n",
    "\n",
    "# iterate until break\n",
    "while True:\n",
    "    \n",
    "    max_buy = max(state_to_match[1].keys())  # best bid\n",
    "    min_sell = min(state_to_match[2].keys())  # best ask\n",
    "    #DEBUGGING\n",
    "    print('max_buy: ', max_buy, 'min_sell: ', min_sell)\n",
    "    \n",
    "    # break if order book not crossed\n",
    "    if not max_buy >= min_sell:\n",
    "        break\n",
    "        \n",
    "    # if empty, remove the current best price_level and continue with the loop\n",
    "    if not (price_level := state_to_match[1][max_buy]): # :=  allows variable assignment inside expression\n",
    "        del state_to_match[1][max_buy];\n",
    "        continue\n",
    "        \n",
    "    if not (price_level := state_to_match[2][min_sell]):\n",
    "        del state_to_match[2][min_sell];\n",
    "        continue\n",
    "    \n",
    "    # in the following, match these two particular orders:\n",
    "    \n",
    "    # sort by priority time and select first order (lowest priority time, necessary for simulation!)\n",
    "    order_buy = sorted(state_to_match[1][max_buy], key=lambda d: d['timestamp'])[0]\n",
    "    order_sell = sorted(state_to_match[2][min_sell], key=lambda d: d['timestamp'])[0]\n",
    "    \n",
    "    # aggressor order has later timestamp\n",
    "    order_standing, order_aggressor = sorted([order_buy, order_sell],key=lambda x: x[\"timestamp\"])\n",
    "    \n",
    "    # execution price is always the price of the standing order\n",
    "    execution_price = order_standing['price']\n",
    "    aggressor_side = order_aggressor[\"side\"]\n",
    "    aggressor_timestamp = order_aggressor[\"timestamp\"]\n",
    "    \n",
    "    # check quantity delta\n",
    "    delta = order_buy[\"quantity\"] - order_sell[\"quantity\"]\n",
    "    order_aggressor[\"side\"]\n",
    "\n",
    "    # TODO: Also, remove quantity from part-matched orders in agent_trade_list...\n",
    "    \n",
    "    if delta < 0:\n",
    "        # remove qt from partially executed sell order\n",
    "        order_sell[\"quantity\"] -= order_buy[\"quantity\"]\n",
    "        # save executed quantity for trade report\n",
    "        execution_quantity = order_buy[\"quantity\"]\n",
    "        # remove the fully executed buy order from state\n",
    "        state_to_match[1][max_buy].remove(order_buy)\n",
    "    \n",
    "    elif delta > 0:\n",
    "        # remove qt from partially executed buy order\n",
    "        order_buy[\"quantity\"] -= order_sell[\"quantity\"]\n",
    "        # store to trade-list\n",
    "        execution_quantity = order_sell[\"quantity\"]\n",
    "        # remove executed sell order from state\n",
    "        state_to_match[2][min_sell].remove(order_sell)\n",
    "        \n",
    "    \n",
    "    else:\n",
    "        # both orders fully executed\n",
    "        execution_quantity = order_sell[\"quantity\"]\n",
    "        # remove both fully executed orders from state\n",
    "        state_to_match[1][max_buy].remove(order_buy)\n",
    "        state_to_match[2][min_sell].remove(order_sell)\n",
    "        \n",
    "    \n",
    "    # report execution in trade_list\n",
    "    trade_list.append({\"aggressor_side\": aggressor_side,\n",
    "                        \"price\": execution_price,\n",
    "                        \"timestamp\": aggressor_timestamp,\n",
    "                        \"quantity\": execution_quantity,\n",
    "                    })\n",
    "    \n",
    "    #self._update_internal_timestamp()\n",
    "    \n",
    "    #DEBUGGING\n",
    "    print(trade_list)\n",
    "    #return trade_list"
   ]
  },
  {
   "cell_type": "code",
   "execution_count": 263,
   "id": "0afdb351",
   "metadata": {},
   "outputs": [],
   "source": [
    "bid_prices = [1,2,16, 3,4,5,6,7,8,9,10]"
   ]
  },
  {
   "cell_type": "code",
   "execution_count": 261,
   "id": "8d5061e2",
   "metadata": {},
   "outputs": [],
   "source": [
    "for price in bid_prices:\n",
    "\n",
    "    if price >= 4:\n",
    "        outer_bid_price = price\n",
    "        break"
   ]
  },
  {
   "cell_type": "code",
   "execution_count": 262,
   "id": "1ccd5cbc",
   "metadata": {},
   "outputs": [
    {
     "data": {
      "text/plain": [
       "4"
      ]
     },
     "execution_count": 262,
     "metadata": {},
     "output_type": "execute_result"
    }
   ],
   "source": [
    "outer_bid_price"
   ]
  },
  {
   "cell_type": "code",
   "execution_count": 269,
   "id": "b83317a2",
   "metadata": {},
   "outputs": [],
   "source": [
    "a = bid_prices.sort(reverse=True)"
   ]
  },
  {
   "cell_type": "code",
   "execution_count": 268,
   "id": "ecc21488",
   "metadata": {},
   "outputs": [],
   "source": [
    "a"
   ]
  },
  {
   "cell_type": "code",
   "execution_count": 270,
   "id": "a45e0733",
   "metadata": {},
   "outputs": [
    {
     "data": {
      "text/plain": [
       "[16, 10, 9, 8, 7, 6, 5, 4, 3, 2, 1]"
      ]
     },
     "execution_count": 270,
     "metadata": {},
     "output_type": "execute_result"
    }
   ],
   "source": [
    "bid_prices"
   ]
  },
  {
   "cell_type": "code",
   "execution_count": null,
   "id": "9270fb4f",
   "metadata": {},
   "outputs": [],
   "source": []
  }
 ],
 "metadata": {
  "kernelspec": {
   "display_name": "Python 3 (ipykernel)",
   "language": "python",
   "name": "python3"
  },
  "language_info": {
   "codemirror_mode": {
    "name": "ipython",
    "version": 3
   },
   "file_extension": ".py",
   "mimetype": "text/x-python",
   "name": "python",
   "nbconvert_exporter": "python",
   "pygments_lexer": "ipython3",
   "version": "3.9.7"
  }
 },
 "nbformat": 4,
 "nbformat_minor": 5
}